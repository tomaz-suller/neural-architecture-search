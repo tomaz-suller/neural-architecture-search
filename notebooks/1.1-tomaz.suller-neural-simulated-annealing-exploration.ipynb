{
 "cells": [
  {
   "cell_type": "markdown",
   "metadata": {},
   "source": [
    "This notebook will introduce the functionalities in the Neural Simulated Annealing code base to the best of our current knowledge.\n",
    "\n",
    "Unless otherwise stated, information comes from either the [paper](../references/neural-simulated-annealing.pdf) or directly from reading the [source code](https://github.com/tomaz-suller/neural-simulated-annealing)"
   ]
  },
  {
   "cell_type": "code",
   "execution_count": 1,
   "metadata": {},
   "outputs": [],
   "source": []
  },
  {
   "cell_type": "markdown",
   "metadata": {},
   "source": [
    "Neural Simulated Annealing (NeuralSA) works by employing a reinforcement learning agent to solve combinatorial search problems, with multiple example implementations provided in the source code."
   ]
  },
  {
   "cell_type": "markdown",
   "metadata": {},
   "source": [
    "Agents are deep reinforcement learning models implemented in PyTorch"
   ]
  },
  {
   "cell_type": "code",
   "execution_count": 2,
   "metadata": {},
   "outputs": [],
   "source": [
    "import torch\n",
    "from torch import Tensor"
   ]
  },
  {
   "cell_type": "markdown",
   "metadata": {},
   "source": [
    "# Initial Attempt: NATS-Bench specific"
   ]
  },
  {
   "cell_type": "markdown",
   "metadata": {},
   "source": [
    "## Environment Definition"
   ]
  },
  {
   "cell_type": "markdown",
   "metadata": {},
   "source": [
    "The environment is defined by an instance of the `neuralsa.problem.Problem` abstract class"
   ]
  },
  {
   "cell_type": "code",
   "execution_count": 3,
   "metadata": {},
   "outputs": [],
   "source": [
    "from neuralsa.problem import Problem"
   ]
  },
  {
   "cell_type": "markdown",
   "metadata": {},
   "source": [
    "### Data model"
   ]
  },
  {
   "cell_type": "markdown",
   "metadata": {},
   "source": [
    "Most instance variables are `torch.Tensor`s since a single problem instance is actually meant to describe multiple instantiations of the same problem to be solved in parallel."
   ]
  },
  {
   "cell_type": "markdown",
   "metadata": {},
   "source": [
    "#### Parameters"
   ]
  },
  {
   "cell_type": "markdown",
   "metadata": {},
   "source": [
    "The class stores the current state of the problem and parameters (`params`) which define the problem (e.g. the weights and values of items in the Knapsack problem, and the capacity of the knapsack).\n",
    "\n",
    "The NAS problem could possibly be described using these parameters in a generic sense, but this first implementation will only deal with the specific case of the NATS-Bench Topology benchmark."
   ]
  },
  {
   "cell_type": "markdown",
   "metadata": {},
   "source": [
    "#### State"
   ]
  },
  {
   "cell_type": "markdown",
   "metadata": {},
   "source": [
    "The state is described by a column vector or matrix which is returned by the `state_encoding` property."
   ]
  },
  {
   "cell_type": "markdown",
   "metadata": {},
   "source": [
    "One sneaky detail of the current implementation is the `x_dim` integer static class variable, which describes the number of dimensions in `x` (which should be renamed ASAP and which I _believe_ to be the current problem solution)."
   ]
  },
  {
   "cell_type": "markdown",
   "metadata": {},
   "source": [
    "I haven't quite figured out why the current SA temperature is also stored in the state matrix..."
   ]
  },
  {
   "cell_type": "markdown",
   "metadata": {},
   "source": [
    "### How to implement functions?"
   ]
  },
  {
   "cell_type": "markdown",
   "metadata": {},
   "source": [
    "Some functions are clearly named using reinforcement learning jargon (e.g. `cost`, `update`)"
   ]
  },
  {
   "cell_type": "markdown",
   "metadata": {},
   "source": [
    "The `main.py` script in the NeuralSA repo hints at the roles of some less clearly named functions in `Problem`:\n",
    "\n",
    "| Function | Role |\n",
    "|----------|------|\n",
    "| `generate_params` | Returns a random instance of the problem parameters |\n",
    "| `set_params` | Sets problem parameters for the `Problem` instance | \n",
    "| `state_encoding` | Column vector or matrix representing the current state variables of the problem |\n"
   ]
  },
  {
   "cell_type": "markdown",
   "metadata": {},
   "source": [
    "### Implementation"
   ]
  },
  {
   "cell_type": "markdown",
   "metadata": {},
   "source": [
    "To avoid magic numbers, we will use some definitions in the NATS-Bench wrapper."
   ]
  },
  {
   "cell_type": "code",
   "execution_count": 4,
   "metadata": {},
   "outputs": [],
   "source": [
    "from nas.benchmark.nats_bench import Operation, CellTopology"
   ]
  },
  {
   "cell_type": "code",
   "execution_count": 5,
   "metadata": {},
   "outputs": [
    {
     "data": {
      "text/plain": [
       "(5, 6)"
      ]
     },
     "execution_count": 5,
     "metadata": {},
     "output_type": "execute_result"
    }
   ],
   "source": [
    "len(Operation), CellTopology.number_operations()"
   ]
  },
  {
   "cell_type": "markdown",
   "metadata": {},
   "source": [
    "The __state__ will be a tensor of dimensions `[n_problems, len(Operation), CellTopology.number_operations()]` which will use one-hot encoding to represent operations (and thus avoid any undue correlation which using e.g. sequential numbers would bring)."
   ]
  },
  {
   "cell_type": "markdown",
   "metadata": {},
   "source": [
    "An __action__ will be a tensor with the same shape as the current state, and will contain a single elements with value 1, representing the cell operations which should be set."
   ]
  },
  {
   "cell_type": "markdown",
   "metadata": {},
   "source": [
    "The NAS problem does not seem at first glance to require any state apart from the solution, which implies that the return value of the `state_encoding` function is meaningless. Ideally it would be null, but that would not be supported by PyTorch most likely."
   ]
  },
  {
   "cell_type": "code",
   "execution_count": 1,
   "metadata": {},
   "outputs": [
    {
     "ename": "IndentationError",
     "evalue": "expected an indented block after function definition on line 4 (4130900577.py, line 7)",
     "output_type": "error",
     "traceback": [
      "\u001b[0;36m  Cell \u001b[0;32mIn[1], line 7\u001b[0;36m\u001b[0m\n\u001b[0;31m    def update(self, s: Tensor, a: Tensor) -> Tensor:\u001b[0m\n\u001b[0m    ^\u001b[0m\n\u001b[0;31mIndentationError\u001b[0m\u001b[0;31m:\u001b[0m expected an indented block after function definition on line 4\n"
     ]
    }
   ],
   "source": [
    "class NatsBenchTopology(Problem):\n",
    "    x_dim = 6  # 6 edges to select in the cell\n",
    "\n",
    "    def cost(self, s: torch.Tensor) -> torch.float:\n",
    "        # TODO Get model results from NATS-Bench\n",
    "        ...\n",
    "\n",
    "    def update(self, s: Tensor, a: Tensor) -> Tensor: ...\n",
    "\n",
    "    def set_params(self, **kwargs) -> None: ...\n",
    "\n",
    "    def generate_params(self) -> dict[str, Tensor]:\n",
    "        return {}\n",
    "\n",
    "    @property\n",
    "    def state_encoding(self) -> torch.Tensor: ...\n",
    "\n",
    "    def generate_init_state(self) -> Tensor:\n",
    "        return super().generate_init_state()"
   ]
  },
  {
   "cell_type": "code",
   "execution_count": null,
   "metadata": {},
   "outputs": [],
   "source": []
  },
  {
   "cell_type": "code",
   "execution_count": null,
   "metadata": {},
   "outputs": [],
   "source": []
  }
 ],
 "metadata": {
  "kernelspec": {
   "display_name": "venv",
   "language": "python",
   "name": "python3"
  },
  "language_info": {
   "codemirror_mode": {
    "name": "ipython",
    "version": 3
   },
   "file_extension": ".py",
   "mimetype": "text/x-python",
   "name": "python",
   "nbconvert_exporter": "python",
   "pygments_lexer": "ipython3",
   "version": "3.12.4"
  }
 },
 "nbformat": 4,
 "nbformat_minor": 2
}
