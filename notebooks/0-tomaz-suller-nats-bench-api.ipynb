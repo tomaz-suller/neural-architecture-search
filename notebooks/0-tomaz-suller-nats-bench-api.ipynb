{
 "cells": [
  {
   "cell_type": "code",
   "execution_count": 1,
   "metadata": {},
   "outputs": [],
   "source": [
    "%load_ext autoreload\n",
    "%autoreload 2"
   ]
  },
  {
   "cell_type": "code",
   "execution_count": 2,
   "metadata": {},
   "outputs": [],
   "source": [
    "from pathlib import Path\n",
    "\n",
    "from nats_bench import create\n",
    "from nats_bench.api_utils import ArchResults\n",
    "\n",
    "from simulated_annealing.nats_bench import Operation, CellTopology, Benchmark, NatsBenchTopology"
   ]
  },
  {
   "cell_type": "code",
   "execution_count": 3,
   "metadata": {},
   "outputs": [],
   "source": [
    "REPO_ROOT = Path().absolute().parent"
   ]
  },
  {
   "cell_type": "code",
   "execution_count": 4,
   "metadata": {},
   "outputs": [],
   "source": [
    "BENCHMARK_NAME_MAP = {\n",
    "    \"topology\": \"NATS-tss-v1_0-3ffb9-simple\",\n",
    "}"
   ]
  },
  {
   "cell_type": "code",
   "execution_count": 5,
   "metadata": {},
   "outputs": [],
   "source": [
    "SELECTED_BENCHMARK = \"topology\""
   ]
  },
  {
   "cell_type": "code",
   "execution_count": 6,
   "metadata": {},
   "outputs": [
    {
     "data": {
      "text/plain": [
       "'NATS-tss-v1_0-3ffb9-simple'"
      ]
     },
     "execution_count": 6,
     "metadata": {},
     "output_type": "execute_result"
    }
   ],
   "source": [
    "benchmark_dir = BENCHMARK_NAME_MAP[SELECTED_BENCHMARK]\n",
    "benchmark_dir"
   ]
  },
  {
   "cell_type": "code",
   "execution_count": 7,
   "metadata": {},
   "outputs": [
    {
     "data": {
      "text/plain": [
       "PosixPath('/home/tomaz/git/Politecnico/Extra/AI-Tech-Lab/simulated-annealing/models/NATS-tss-v1_0-3ffb9-simple')"
      ]
     },
     "execution_count": 7,
     "metadata": {},
     "output_type": "execute_result"
    }
   ],
   "source": [
    "benchmark_path = REPO_ROOT / \"models\" /  benchmark_dir\n",
    "benchmark_path"
   ]
  },
  {
   "cell_type": "code",
   "execution_count": 8,
   "metadata": {},
   "outputs": [
    {
     "name": "stdout",
     "output_type": "stream",
     "text": [
      "[2024-06-15 08:29:40] Try to create the NATS-Bench (topology) api from /home/tomaz/git/Politecnico/Extra/AI-Tech-Lab/simulated-annealing/models/NATS-tss-v1_0-3ffb9-simple with fast_mode=True\n",
      "[2024-06-15 08:29:41] Create NATS-Bench (topology) done with 0/15625 architectures avaliable.\n"
     ]
    },
    {
     "data": {
      "text/plain": [
       "NATStopology(0/15625 architectures, fast_mode=True, file=NATS-tss-v1_0-3ffb9-simple)"
      ]
     },
     "execution_count": 8,
     "metadata": {},
     "output_type": "execute_result"
    }
   ],
   "source": [
    "api = create(\n",
    "    str(benchmark_path),\n",
    "    SELECTED_BENCHMARK,\n",
    "    fast_mode=True,\n",
    ")\n",
    "api"
   ]
  },
  {
   "cell_type": "code",
   "execution_count": 9,
   "metadata": {},
   "outputs": [
    {
     "name": "stdout",
     "output_type": "stream",
     "text": [
      "[2024-06-15 08:29:41] Call query_by_index with arch_index=0, dataname=None, hp=12\n",
      "Call query_meta_info_by_index with arch_index=0, hp=12\n",
      "[2024-06-15 08:29:41] Call clear_params with archive_root=/home/tomaz/git/Politecnico/Extra/AI-Tech-Lab/simulated-annealing/models/NATS-tss-v1_0-3ffb9-simple and index=0\n"
     ]
    },
    {
     "data": {
      "text/plain": [
       "ArchResults(arch-index=0, arch=|avg_pool_3x3~0|+|nor_conv_1x1~0|skip_connect~1|+|nor_conv_1x1~0|skip_connect~1|skip_connect~2|, 5 runs, clear=True)"
      ]
     },
     "execution_count": 9,
     "metadata": {},
     "output_type": "execute_result"
    }
   ],
   "source": [
    "architecture_result: ArchResults = api.query_by_index(0)\n",
    "architecture_result"
   ]
  },
  {
   "cell_type": "code",
   "execution_count": 10,
   "metadata": {},
   "outputs": [
    {
     "data": {
      "text/plain": [
       "{'iepoch': 11.0,\n",
       " 'loss': 0.8653452147483826,\n",
       " 'accuracy': 69.55,\n",
       " 'cur_time': 1.0195916947864352,\n",
       " 'all_time': 12.235100337437222}"
      ]
     },
     "execution_count": 10,
     "metadata": {},
     "output_type": "execute_result"
    }
   ],
   "source": [
    "architecture_result.get_metrics(\"cifar10\", \"ori-test\")"
   ]
  },
  {
   "cell_type": "code",
   "execution_count": 11,
   "metadata": {},
   "outputs": [
    {
     "data": {
      "text/plain": [
       "{111: ResultsCount(cifar10, arch=|avg_pool_3x3~0|+|nor_conv_1x1~0|skip_connect~1|+|nor_conv_1x1~0|skip_connect~1|skip_connect~2|, FLOP=15.65M, Param=0.129MB, seed=0111, 1 eval-sets: [ori-test])}"
      ]
     },
     "execution_count": 11,
     "metadata": {},
     "output_type": "execute_result"
    }
   ],
   "source": [
    "architecture_result.query(\"cifar10\")"
   ]
  },
  {
   "cell_type": "code",
   "execution_count": 12,
   "metadata": {},
   "outputs": [
    {
     "name": "stdout",
     "output_type": "stream",
     "text": [
      "[2024-06-15 08:29:41] Call query_index_by_arch with arch=0\n",
      "[2024-06-15 08:29:41] Call the get_more_info function with index=0, dataset=cifar10-valid, iepoch=None, hp=12, and is_random=True.\n",
      "[2024-06-15 08:29:41] Call query_index_by_arch with arch=0\n",
      "[2024-06-15 08:29:41] Call _prepare_info with index=0 skip because it is in arch2infos_dict\n",
      "[2024-06-15 08:29:41] Call the get_latency function with index=0, dataset=cifar10, and hp=12.\n",
      "[2024-06-15 08:29:41] Call the get_cost_info function with index=0, dataset=cifar10, and hp=12.\n",
      "[2024-06-15 08:29:41] Call _prepare_info with index=0 skip because it is in arch2infos_dict\n",
      "Call query_meta_info_by_index with arch_index=0, hp=12\n",
      "[2024-06-15 08:29:41] Call _prepare_info with index=0 skip because it is in arch2infos_dict\n"
     ]
    },
    {
     "data": {
      "text/plain": [
       "(64.01599998291016, 0.0139359758611311, 89.2020952247438, 89.2020952247438)"
      ]
     },
     "execution_count": 12,
     "metadata": {},
     "output_type": "execute_result"
    }
   ],
   "source": [
    "api.simulate_train_eval(0, \"cifar10\")"
   ]
  },
  {
   "cell_type": "code",
   "execution_count": 13,
   "metadata": {},
   "outputs": [
    {
     "name": "stdout",
     "output_type": "stream",
     "text": [
      "[2024-06-15 08:29:41] Call the get_more_info function with index=0, dataset=cifar10, iepoch=None, hp=12, and is_random=True.\n",
      "[2024-06-15 08:29:41] Call query_index_by_arch with arch=0\n",
      "[2024-06-15 08:29:41] Call _prepare_info with index=0 skip because it is in arch2infos_dict\n"
     ]
    },
    {
     "data": {
      "text/plain": [
       "{'train-loss': 0.8180574755477905,\n",
       " 'train-accuracy': 71.08,\n",
       " 'train-per-time': 14.442185997962952,\n",
       " 'train-all-time': 173.30623197555542,\n",
       " 'comment': 'In this dict, train-loss/accuracy/time is the metric on the train+valid sets of CIFAR-10. The test-loss/accuracy/time is the performance of the CIFAR-10 test set after training on the train+valid sets by 12 epochs. The per-time and total-time indicate the per epoch and total time costs, respectively.',\n",
       " 'test-loss': 0.8653452147483826,\n",
       " 'test-accuracy': 69.55,\n",
       " 'test-per-time': 1.0195916947864352,\n",
       " 'test-all-time': 12.235100337437222}"
      ]
     },
     "execution_count": 13,
     "metadata": {},
     "output_type": "execute_result"
    }
   ],
   "source": [
    "api.get_more_info(0, \"cifar10\")"
   ]
  },
  {
   "cell_type": "code",
   "execution_count": 14,
   "metadata": {},
   "outputs": [
    {
     "data": {
      "text/plain": [
       "'|avg_pool_3x3~0|+|nor_conv_1x1~0|skip_connect~1|+|nor_conv_1x1~0|skip_connect~1|skip_connect~2|'"
      ]
     },
     "execution_count": 14,
     "metadata": {},
     "output_type": "execute_result"
    }
   ],
   "source": [
    "architecture_result.arch_str"
   ]
  },
  {
   "cell_type": "code",
   "execution_count": 15,
   "metadata": {},
   "outputs": [
    {
     "data": {
      "text/plain": [
       "CellTopology(edge_0_to_1=<Operation.avg_pool_3x3: 4>, edge_0_to_2=<Operation.nor_conv_1x1: 2>, edge_1_to_2=<Operation.skip_connect: 1>, edge_0_to_3=<Operation.nor_conv_1x1: 2>, edge_1_to_3=<Operation.skip_connect: 1>, edge_2_to_3=<Operation.skip_connect: 1>)"
      ]
     },
     "execution_count": 15,
     "metadata": {},
     "output_type": "execute_result"
    }
   ],
   "source": [
    "topology = CellTopology(\n",
    "    Operation.avg_pool_3x3,\n",
    "    Operation.nor_conv_1x1,\n",
    "    Operation.skip_connect,\n",
    "    Operation.nor_conv_1x1,\n",
    "    Operation.skip_connect,\n",
    "    Operation.skip_connect,\n",
    ")\n",
    "topology"
   ]
  },
  {
   "cell_type": "code",
   "execution_count": 16,
   "metadata": {},
   "outputs": [
    {
     "data": {
      "text/plain": [
       "'|avg_pool_3x3~0|+|nor_conv_1x1~0|skip_connect~1|+|nor_conv_1x1~0|skip_connect~1|skip_connect~2|'"
      ]
     },
     "execution_count": 16,
     "metadata": {},
     "output_type": "execute_result"
    }
   ],
   "source": [
    "str(topology)"
   ]
  },
  {
   "cell_type": "code",
   "execution_count": 17,
   "metadata": {},
   "outputs": [
    {
     "data": {
      "text/plain": [
       "True"
      ]
     },
     "execution_count": 17,
     "metadata": {},
     "output_type": "execute_result"
    }
   ],
   "source": [
    "architecture_result.arch_str == str(topology)"
   ]
  },
  {
   "cell_type": "code",
   "execution_count": 18,
   "metadata": {},
   "outputs": [
    {
     "name": "stdout",
     "output_type": "stream",
     "text": [
      "[2024-06-15 08:29:41] Call query_index_by_arch with arch=|avg_pool_3x3~0|+|nor_conv_1x1~0|skip_connect~1|+|nor_conv_1x1~0|skip_connect~1|skip_connect~2|\n"
     ]
    },
    {
     "data": {
      "text/plain": [
       "0"
      ]
     },
     "execution_count": 18,
     "metadata": {},
     "output_type": "execute_result"
    }
   ],
   "source": [
    "topology_index = api.query_index_by_arch(str(topology))\n",
    "topology_index"
   ]
  },
  {
   "cell_type": "code",
   "execution_count": 19,
   "metadata": {},
   "outputs": [
    {
     "name": "stdout",
     "output_type": "stream",
     "text": [
      "[2024-06-15 08:29:41] Call the get_more_info function with index=0, dataset=Benchmark.CIFAR10, iepoch=None, hp=12, and is_random=True.\n",
      "[2024-06-15 08:29:41] Call query_index_by_arch with arch=0\n",
      "[2024-06-15 08:29:41] Call _prepare_info with index=0 skip because it is in arch2infos_dict\n"
     ]
    },
    {
     "data": {
      "text/plain": [
       "{'train-loss': 1.0051389471244812,\n",
       " 'train-accuracy': 63.92000001708984,\n",
       " 'train-per-time': 7.221092998981476,\n",
       " 'train-all-time': 86.65311598777771,\n",
       " 'comment': 'In this dict, train-loss/accuracy/time is the metric on the train set of CIFAR-10. The test-loss/accuracy/time is the performance of the CIFAR-10 test set after training on the train set by 12 epochs. The per-time and total-time indicate the per epoch and total time costs, respectively.',\n",
       " 'valid-loss': 1.0478905376434327,\n",
       " 'valid-accuracy': 62.71199997802734,\n",
       " 'valid-per-time': 2.5489792369660877,\n",
       " 'valid-all-time': 30.587750843593053,\n",
       " 'test-loss': 1.0519337089538574,\n",
       " 'test-accuracy': 62.82,\n",
       " 'test-per-time': 1.0195916947864352,\n",
       " 'test-all-time': 12.235100337437222}"
      ]
     },
     "execution_count": 19,
     "metadata": {},
     "output_type": "execute_result"
    }
   ],
   "source": [
    "api.get_more_info(topology_index, Benchmark.CIFAR10)"
   ]
  },
  {
   "cell_type": "code",
   "execution_count": 20,
   "metadata": {},
   "outputs": [
    {
     "data": {
      "text/plain": [
       "<simulated_annealing.nats_bench.NatsBenchTopology at 0x7f6dd474c140>"
      ]
     },
     "execution_count": 20,
     "metadata": {},
     "output_type": "execute_result"
    }
   ],
   "source": [
    "bench = NatsBenchTopology(benchmark_path, Benchmark.CIFAR10)\n",
    "bench"
   ]
  },
  {
   "cell_type": "code",
   "execution_count": 21,
   "metadata": {},
   "outputs": [
    {
     "data": {
      "text/plain": [
       "ArchitectureResult(index=0, train=Metrics(loss=0.9745367371559143, accuracy=64.97199997802734, time_per_epoch=7.221092998981476, time=86.65311598777771), val=Metrics(loss=1.020442234992981, accuracy=64.01599998291016, time_per_epoch=2.5489792369660877, time=30.587750843593053), test=Metrics(loss=1.0203236518859864, accuracy=63.66, time_per_epoch=1.0195916947864352, time=12.235100337437222))"
      ]
     },
     "execution_count": 21,
     "metadata": {},
     "output_type": "execute_result"
    }
   ],
   "source": [
    "result = bench.query(topology)\n",
    "result"
   ]
  }
 ],
 "metadata": {
  "kernelspec": {
   "display_name": "venv",
   "language": "python",
   "name": "python3"
  },
  "language_info": {
   "codemirror_mode": {
    "name": "ipython",
    "version": 3
   },
   "file_extension": ".py",
   "mimetype": "text/x-python",
   "name": "python",
   "nbconvert_exporter": "python",
   "pygments_lexer": "ipython3",
   "version": "3.12.3"
  }
 },
 "nbformat": 4,
 "nbformat_minor": 2
}
