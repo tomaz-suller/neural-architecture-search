{
 "cells": [
  {
   "cell_type": "code",
   "execution_count": 16,
   "metadata": {},
   "outputs": [],
   "source": [
    "import os\n",
    "from pathlib import Path\n",
    "\n",
    "from nats_bench import create"
   ]
  },
  {
   "cell_type": "code",
   "execution_count": 35,
   "metadata": {},
   "outputs": [],
   "source": [
    "REPO_ROOT = Path().absolute().parent"
   ]
  },
  {
   "cell_type": "code",
   "execution_count": 42,
   "metadata": {},
   "outputs": [],
   "source": [
    "BENCHMARK_NAME_MAP = {\n",
    "    \"topology\": \"NATS-tss-v1_0-3ffb9-simple\",\n",
    "}"
   ]
  },
  {
   "cell_type": "code",
   "execution_count": 43,
   "metadata": {},
   "outputs": [],
   "source": [
    "SELECTED_BENCHMARK = \"topology\""
   ]
  },
  {
   "cell_type": "code",
   "execution_count": 44,
   "metadata": {},
   "outputs": [
    {
     "data": {
      "text/plain": [
       "'NATS-tss-v1_0-3ffb9-simple'"
      ]
     },
     "execution_count": 44,
     "metadata": {},
     "output_type": "execute_result"
    }
   ],
   "source": [
    "benchmark_dir = BENCHMARK_NAME_MAP[SELECTED_BENCHMARK]\n",
    "benchmark_dir"
   ]
  },
  {
   "cell_type": "code",
   "execution_count": 45,
   "metadata": {},
   "outputs": [
    {
     "name": "stdout",
     "output_type": "stream",
     "text": [
      "[2024-06-14 20:10:32] Try to create the NATS-Bench (topology) api from /home/tomaz/git/Politecnico/Extra/AI-Tech-Lab/simulated-annealing/models/NATS-tss-v1_0-3ffb9-simple with fast_mode=True\n",
      "[2024-06-14 20:10:32] Create NATS-Bench (topology) done with 0/15625 architectures avaliable.\n"
     ]
    },
    {
     "data": {
      "text/plain": [
       "NATStopology(0/15625 architectures, fast_mode=True, file=NATS-tss-v1_0-3ffb9-simple)"
      ]
     },
     "execution_count": 45,
     "metadata": {},
     "output_type": "execute_result"
    }
   ],
   "source": [
    "api = create(\n",
    "    str(REPO_ROOT / \"models\" /  benchmark_dir),\n",
    "    SELECTED_BENCHMARK,\n",
    "    fast_mode=True,\n",
    ")\n",
    "api"
   ]
  },
  {
   "cell_type": "code",
   "execution_count": null,
   "metadata": {},
   "outputs": [],
   "source": [
    "api.query_index_by_arch"
   ]
  }
 ],
 "metadata": {
  "kernelspec": {
   "display_name": "venv",
   "language": "python",
   "name": "python3"
  },
  "language_info": {
   "codemirror_mode": {
    "name": "ipython",
    "version": 3
   },
   "file_extension": ".py",
   "mimetype": "text/x-python",
   "name": "python",
   "nbconvert_exporter": "python",
   "pygments_lexer": "ipython3",
   "version": "3.12.3"
  }
 },
 "nbformat": 4,
 "nbformat_minor": 2
}
